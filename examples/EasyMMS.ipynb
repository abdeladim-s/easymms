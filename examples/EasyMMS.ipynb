{
  "nbformat": 4,
  "nbformat_minor": 0,
  "metadata": {
    "colab": {
      "provenance": [],
      "gpuType": "T4",
      "machine_shape": "hm"
    },
    "kernelspec": {
      "name": "python3",
      "display_name": "Python 3"
    },
    "language_info": {
      "name": "python"
    }
  },
  "cells": [
    {
      "cell_type": "markdown",
      "source": [
        "# EasyMMS notebook example\n",
        "[EasyMMS](https://github.com/abdeladim-s/easymms) is simple Python package to easily use [Meta's Massively Multilingual Speech (MMS) project](https://github.com/facebookresearch/fairseq/tree/main/examples/mms). \n"
      ],
      "metadata": {
        "id": "yV-g_11gCdgU"
      }
    },
    {
      "cell_type": "markdown",
      "source": [
        "# Dependencies"
      ],
      "metadata": {
        "id": "Qok7qbbHD0fN"
      }
    },
    {
      "cell_type": "code",
      "source": [
        "import os\n",
        "\n",
        "!apt install ffmpeg\n",
        "!apt install sox\n",
        "!pip install -U --pre torchaudio --index-url https://download.pytorch.org/whl/nightly/cu118\n",
        "!git clone https://github.com/pytorch/fairseq\n",
        "os.chdir('fairseq')\n",
        "!pip install -e .\n",
        "os.environ[\"PYTHONPATH\"] = \".\"\n",
        "!pip install git+https://github.com/abdeladim-s/easymms"
      ],
      "metadata": {
        "id": "aiL7aj9XOx6M"
      },
      "execution_count": null,
      "outputs": []
    },
    {
      "cell_type": "code",
      "source": [
        "# @title Download Model { display-mode: \"form\" }\n",
        "\n",
        "model = 'mms1b_fl102' #@param [\"mms1b_fl102\", \"mms1b_l1107\", \"mms1b_all\"] {allow-input: true}\n",
        "\n",
        "if model == \"mms1b_fl102\": \n",
        "  !wget -P ./models 'https://dl.fbaipublicfiles.com/mms/asr/mms1b_fl102.pt'\n",
        "\n",
        "elif model == \"mms1b_l1107\":\n",
        "  !wget -P ./models 'https://dl.fbaipublicfiles.com/mms/asr/mms1b_l1107.pt'\n",
        "\n",
        "elif model == \"mms1b_all\":\n",
        "  !wget -P ./models 'https://dl.fbaipublicfiles.com/mms/asr/mms1b_all.pt'"
      ],
      "metadata": {
        "id": "X6Q1G0xv9ClN"
      },
      "execution_count": null,
      "outputs": []
    },
    {
      "cell_type": "markdown",
      "source": [
        "# Upload Media files"
      ],
      "metadata": {
        "id": "JORcqzJkB2Vv"
      }
    },
    {
      "cell_type": "code",
      "source": [
        "files = ['/content/media_file1.wav', '/content/media_file2.mp3']"
      ],
      "metadata": {
        "id": "NnqyNW4OB1np"
      },
      "execution_count": null,
      "outputs": []
    },
    {
      "cell_type": "markdown",
      "source": [
        "# ASR Model inference"
      ],
      "metadata": {
        "id": "08UVjxMHCI0U"
      }
    },
    {
      "cell_type": "code",
      "source": [
        "from easymms.models.asr import ASRModel\n",
        "\n",
        "asr = ASRModel(model=f'./models/{model}.pt')\n",
        "\n",
        "transcriptions = asr.transcribe(files, lang='eng', align=False)\n",
        "for i, transcription in enumerate(transcriptions):\n",
        "    print(f\">>> file {files[i]}\")\n",
        "    print(transcription)"
      ],
      "metadata": {
        "id": "74_X86PMDVmV"
      },
      "execution_count": null,
      "outputs": []
    },
    {
      "cell_type": "markdown",
      "source": [
        "# ASR Model inference + Alignment"
      ],
      "metadata": {
        "id": "XXlYG81OCUBB"
      }
    },
    {
      "cell_type": "code",
      "source": [
        "from easymms.models.asr import ASRModel\n",
        "\n",
        "asr = ASRModel(model='./models/mms1b_fl102.pt')\n",
        "files = ['/content/talk_10s.wav']\n",
        "transcriptions = asr.transcribe(files, lang='eng', align=True, device='cpu')\n",
        "for i, transcription in enumerate(transcriptions):\n",
        "    print(f\">>> file {files[i]}\")\n",
        "    for segment in transcription:\n",
        "        print(f\"{segment['start_time']} -> {segment['end_time']}: {segment['text']}\")\n",
        "    print(\"----\")"
      ],
      "metadata": {
        "id": "lW6u20SONZs0"
      },
      "execution_count": null,
      "outputs": []
    }
  ]
}