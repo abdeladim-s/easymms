{
  "nbformat": 4,
  "nbformat_minor": 0,
  "metadata": {
    "colab": {
      "provenance": [],
      "gpuType": "T4",
      "machine_shape": "hm"
    },
    "kernelspec": {
      "name": "python3",
      "display_name": "Python 3"
    },
    "language_info": {
      "name": "python"
    },
    "accelerator": "GPU"
  },
  "cells": [
    {
      "cell_type": "markdown",
      "source": [
        "# EasyMMS notebook example to transcribe long files\n",
        "\n",
        "[EasyMMS](https://github.com/abdeladim-s/easymms) is simple Python package to easily use [Meta's Massively Multilingual Speech (MMS) project](https://github.com/facebookresearch/fairseq/tree/main/examples/mms). \n"
      ],
      "metadata": {
        "id": "yV-g_11gCdgU"
      }
    },
    {
      "cell_type": "markdown",
      "source": [
        "# Dependencies"
      ],
      "metadata": {
        "id": "Qok7qbbHD0fN"
      }
    },
    {
      "cell_type": "code",
      "source": [
        "import os\n",
        "\n",
        "!apt install ffmpeg\n",
        "!apt install sox\n",
        "!pip install -U --pre torchaudio --index-url https://download.pytorch.org/whl/nightly/cu118\n",
        "!git clone https://github.com/pytorch/fairseq\n",
        "os.chdir('fairseq')\n",
        "!pip install -e .\n",
        "os.environ[\"PYTHONPATH\"] = \".\"\n",
        "!pip install git+https://github.com/abdeladim-s/easymms"
      ],
      "metadata": {
        "colab": {
          "base_uri": "https://localhost:8080/",
          "height": 1000
        },
        "id": "aiL7aj9XOx6M",
        "outputId": "0beb11ab-4b23-4409-a116-641c43057281"
      },
      "execution_count": null,
      "outputs": [
        {
          "output_type": "stream",
          "name": "stdout",
          "text": [
            "Reading package lists... Done\n",
            "Building dependency tree       \n",
            "Reading state information... Done\n",
            "ffmpeg is already the newest version (7:4.2.7-0ubuntu0.1).\n",
            "0 upgraded, 0 newly installed, 0 to remove and 34 not upgraded.\n",
            "Reading package lists... Done\n",
            "Building dependency tree       \n",
            "Reading state information... Done\n",
            "The following additional packages will be installed:\n",
            "  libopencore-amrnb0 libopencore-amrwb0 libsox-fmt-alsa libsox-fmt-base\n",
            "  libsox3\n",
            "Suggested packages:\n",
            "  libsox-fmt-all\n",
            "The following NEW packages will be installed:\n",
            "  libopencore-amrnb0 libopencore-amrwb0 libsox-fmt-alsa libsox-fmt-base\n",
            "  libsox3 sox\n",
            "0 upgraded, 6 newly installed, 0 to remove and 34 not upgraded.\n",
            "Need to get 513 kB of archives.\n",
            "After this operation, 1,564 kB of additional disk space will be used.\n",
            "Get:1 http://archive.ubuntu.com/ubuntu focal/universe amd64 libopencore-amrnb0 amd64 0.1.5-1 [94.8 kB]\n",
            "Get:2 http://archive.ubuntu.com/ubuntu focal/universe amd64 libopencore-amrwb0 amd64 0.1.5-1 [49.1 kB]\n",
            "Get:3 http://archive.ubuntu.com/ubuntu focal-updates/universe amd64 libsox3 amd64 14.4.2+git20190427-2+deb11u2build0.20.04.1 [225 kB]\n",
            "Get:4 http://archive.ubuntu.com/ubuntu focal-updates/universe amd64 libsox-fmt-alsa amd64 14.4.2+git20190427-2+deb11u2build0.20.04.1 [10.5 kB]\n",
            "Get:5 http://archive.ubuntu.com/ubuntu focal-updates/universe amd64 libsox-fmt-base amd64 14.4.2+git20190427-2+deb11u2build0.20.04.1 [31.4 kB]\n",
            "Get:6 http://archive.ubuntu.com/ubuntu focal-updates/universe amd64 sox amd64 14.4.2+git20190427-2+deb11u2build0.20.04.1 [102 kB]\n",
            "Fetched 513 kB in 1s (430 kB/s)\n",
            "Selecting previously unselected package libopencore-amrnb0:amd64.\n",
            "(Reading database ... 122545 files and directories currently installed.)\n",
            "Preparing to unpack .../0-libopencore-amrnb0_0.1.5-1_amd64.deb ...\n",
            "Unpacking libopencore-amrnb0:amd64 (0.1.5-1) ...\n",
            "Selecting previously unselected package libopencore-amrwb0:amd64.\n",
            "Preparing to unpack .../1-libopencore-amrwb0_0.1.5-1_amd64.deb ...\n",
            "Unpacking libopencore-amrwb0:amd64 (0.1.5-1) ...\n",
            "Selecting previously unselected package libsox3:amd64.\n",
            "Preparing to unpack .../2-libsox3_14.4.2+git20190427-2+deb11u2build0.20.04.1_amd64.deb ...\n",
            "Unpacking libsox3:amd64 (14.4.2+git20190427-2+deb11u2build0.20.04.1) ...\n",
            "Selecting previously unselected package libsox-fmt-alsa:amd64.\n",
            "Preparing to unpack .../3-libsox-fmt-alsa_14.4.2+git20190427-2+deb11u2build0.20.04.1_amd64.deb ...\n",
            "Unpacking libsox-fmt-alsa:amd64 (14.4.2+git20190427-2+deb11u2build0.20.04.1) ...\n",
            "Selecting previously unselected package libsox-fmt-base:amd64.\n",
            "Preparing to unpack .../4-libsox-fmt-base_14.4.2+git20190427-2+deb11u2build0.20.04.1_amd64.deb ...\n",
            "Unpacking libsox-fmt-base:amd64 (14.4.2+git20190427-2+deb11u2build0.20.04.1) ...\n",
            "Selecting previously unselected package sox.\n",
            "Preparing to unpack .../5-sox_14.4.2+git20190427-2+deb11u2build0.20.04.1_amd64.deb ...\n",
            "Unpacking sox (14.4.2+git20190427-2+deb11u2build0.20.04.1) ...\n",
            "Setting up libsox3:amd64 (14.4.2+git20190427-2+deb11u2build0.20.04.1) ...\n",
            "Setting up libopencore-amrwb0:amd64 (0.1.5-1) ...\n",
            "Setting up libsox-fmt-alsa:amd64 (14.4.2+git20190427-2+deb11u2build0.20.04.1) ...\n",
            "Setting up libopencore-amrnb0:amd64 (0.1.5-1) ...\n",
            "Setting up libsox-fmt-base:amd64 (14.4.2+git20190427-2+deb11u2build0.20.04.1) ...\n",
            "Setting up sox (14.4.2+git20190427-2+deb11u2build0.20.04.1) ...\n",
            "Processing triggers for libc-bin (2.31-0ubuntu9.9) ...\n",
            "Processing triggers for man-db (2.9.1-1) ...\n",
            "Processing triggers for mime-support (3.64ubuntu1) ...\n",
            "Looking in indexes: https://download.pytorch.org/whl/nightly/cu118, https://us-python.pkg.dev/colab-wheels/public/simple/\n",
            "Requirement already satisfied: torchaudio in /usr/local/lib/python3.10/dist-packages (2.0.2+cu118)\n",
            "Collecting torchaudio\n",
            "  Downloading https://download.pytorch.org/whl/nightly/cu118/torchaudio-2.1.0.dev20230531%2Bcu118-cp310-cp310-linux_x86_64.whl (4.9 MB)\n",
            "\u001b[2K     \u001b[90m━━━━━━━━━━━━━━━━━━━━━━━━━━━━━━━━━━━━━━━━\u001b[0m \u001b[32m4.9/4.9 MB\u001b[0m \u001b[31m61.5 MB/s\u001b[0m eta \u001b[36m0:00:00\u001b[0m\n",
            "\u001b[?25hCollecting torch==2.1.0.dev20230531 (from torchaudio)\n",
            "  Downloading https://download.pytorch.org/whl/nightly/cu118/torch-2.1.0.dev20230531%2Bcu118-cp310-cp310-linux_x86_64.whl (2310.0 MB)\n",
            "\u001b[2K     \u001b[90m━━━━━━━━━━━━━━━━━━━━━━━━━━━━━━━━━━━━━━━━\u001b[0m \u001b[32m2.3/2.3 GB\u001b[0m \u001b[31m606.0 kB/s\u001b[0m eta \u001b[36m0:00:00\u001b[0m\n",
            "\u001b[?25hRequirement already satisfied: filelock in /usr/local/lib/python3.10/dist-packages (from torch==2.1.0.dev20230531->torchaudio) (3.12.0)\n",
            "Requirement already satisfied: typing-extensions in /usr/local/lib/python3.10/dist-packages (from torch==2.1.0.dev20230531->torchaudio) (4.5.0)\n",
            "Requirement already satisfied: sympy in /usr/local/lib/python3.10/dist-packages (from torch==2.1.0.dev20230531->torchaudio) (1.11.1)\n",
            "Requirement already satisfied: networkx in /usr/local/lib/python3.10/dist-packages (from torch==2.1.0.dev20230531->torchaudio) (3.1)\n",
            "Requirement already satisfied: jinja2 in /usr/local/lib/python3.10/dist-packages (from torch==2.1.0.dev20230531->torchaudio) (3.1.2)\n",
            "Requirement already satisfied: fsspec in /usr/local/lib/python3.10/dist-packages (from torch==2.1.0.dev20230531->torchaudio) (2023.4.0)\n",
            "Collecting pytorch-triton==2.1.0+9820899b38 (from torch==2.1.0.dev20230531->torchaudio)\n",
            "  Downloading https://download.pytorch.org/whl/nightly/pytorch_triton-2.1.0%2B9820899b38-cp310-cp310-linux_x86_64.whl (90.5 MB)\n",
            "\u001b[2K     \u001b[90m━━━━━━━━━━━━━━━━━━━━━━━━━━━━━━━━━━━━━━━━\u001b[0m \u001b[32m90.5/90.5 MB\u001b[0m \u001b[31m8.5 MB/s\u001b[0m eta \u001b[36m0:00:00\u001b[0m\n",
            "\u001b[?25hRequirement already satisfied: MarkupSafe>=2.0 in /usr/local/lib/python3.10/dist-packages (from jinja2->torch==2.1.0.dev20230531->torchaudio) (2.1.2)\n",
            "Requirement already satisfied: mpmath>=0.19 in /usr/local/lib/python3.10/dist-packages (from sympy->torch==2.1.0.dev20230531->torchaudio) (1.3.0)\n",
            "Installing collected packages: pytorch-triton, torch, torchaudio\n",
            "  Attempting uninstall: torch\n",
            "    Found existing installation: torch 2.0.1+cu118\n",
            "    Uninstalling torch-2.0.1+cu118:\n",
            "      Successfully uninstalled torch-2.0.1+cu118\n",
            "  Attempting uninstall: torchaudio\n",
            "    Found existing installation: torchaudio 2.0.2+cu118\n",
            "    Uninstalling torchaudio-2.0.2+cu118:\n",
            "      Successfully uninstalled torchaudio-2.0.2+cu118\n",
            "\u001b[31mERROR: pip's dependency resolver does not currently take into account all the packages that are installed. This behaviour is the source of the following dependency conflicts.\n",
            "fastai 2.7.12 requires torch<2.1,>=1.7, but you have torch 2.1.0.dev20230531+cu118 which is incompatible.\n",
            "torchdata 0.6.1 requires torch==2.0.1, but you have torch 2.1.0.dev20230531+cu118 which is incompatible.\n",
            "torchtext 0.15.2 requires torch==2.0.1, but you have torch 2.1.0.dev20230531+cu118 which is incompatible.\n",
            "torchvision 0.15.2+cu118 requires torch==2.0.1, but you have torch 2.1.0.dev20230531+cu118 which is incompatible.\u001b[0m\u001b[31m\n",
            "\u001b[0mSuccessfully installed pytorch-triton-2.1.0+9820899b38 torch-2.1.0.dev20230531+cu118 torchaudio-2.1.0.dev20230531+cu118\n",
            "Cloning into 'fairseq'...\n",
            "remote: Enumerating objects: 34725, done.\u001b[K\n",
            "remote: Counting objects: 100% (182/182), done.\u001b[K\n",
            "remote: Compressing objects: 100% (104/104), done.\u001b[K\n",
            "remote: Total 34725 (delta 92), reused 147 (delta 73), pack-reused 34543\u001b[K\n",
            "Receiving objects: 100% (34725/34725), 25.01 MiB | 19.49 MiB/s, done.\n",
            "Resolving deltas: 100% (25184/25184), done.\n",
            "Looking in indexes: https://pypi.org/simple, https://us-python.pkg.dev/colab-wheels/public/simple/\n",
            "Obtaining file:///content/fairseq\n",
            "  Installing build dependencies ... \u001b[?25l\u001b[?25hdone\n",
            "  Checking if build backend supports build_editable ... \u001b[?25l\u001b[?25hdone\n",
            "  Getting requirements to build editable ... \u001b[?25l\u001b[?25hdone\n",
            "  Preparing editable metadata (pyproject.toml) ... \u001b[?25l\u001b[?25hdone\n",
            "Requirement already satisfied: cffi in /usr/local/lib/python3.10/dist-packages (from fairseq==0.12.2) (1.15.1)\n",
            "Requirement already satisfied: cython in /usr/local/lib/python3.10/dist-packages (from fairseq==0.12.2) (0.29.34)\n",
            "Collecting hydra-core<1.1,>=1.0.7 (from fairseq==0.12.2)\n",
            "  Downloading hydra_core-1.0.7-py3-none-any.whl (123 kB)\n",
            "\u001b[2K     \u001b[90m━━━━━━━━━━━━━━━━━━━━━━━━━━━━━━━━━━━━━━━\u001b[0m \u001b[32m123.8/123.8 kB\u001b[0m \u001b[31m6.0 MB/s\u001b[0m eta \u001b[36m0:00:00\u001b[0m\n",
            "\u001b[?25hCollecting omegaconf<2.1 (from fairseq==0.12.2)\n",
            "  Downloading omegaconf-2.0.6-py3-none-any.whl (36 kB)\n",
            "Requirement already satisfied: numpy>=1.21.3 in /usr/local/lib/python3.10/dist-packages (from fairseq==0.12.2) (1.22.4)\n",
            "Requirement already satisfied: regex in /usr/local/lib/python3.10/dist-packages (from fairseq==0.12.2) (2022.10.31)\n",
            "Collecting sacrebleu>=1.4.12 (from fairseq==0.12.2)\n",
            "  Downloading sacrebleu-2.3.1-py3-none-any.whl (118 kB)\n",
            "\u001b[2K     \u001b[90m━━━━━━━━━━━━━━━━━━━━━━━━━━━━━━━━━━━━━━\u001b[0m \u001b[32m118.9/118.9 kB\u001b[0m \u001b[31m18.9 MB/s\u001b[0m eta \u001b[36m0:00:00\u001b[0m\n",
            "\u001b[?25hRequirement already satisfied: torch>=1.13 in /usr/local/lib/python3.10/dist-packages (from fairseq==0.12.2) (2.1.0.dev20230531+cu118)\n",
            "Requirement already satisfied: tqdm in /usr/local/lib/python3.10/dist-packages (from fairseq==0.12.2) (4.65.0)\n",
            "Collecting bitarray (from fairseq==0.12.2)\n",
            "  Downloading bitarray-2.7.4-cp310-cp310-manylinux_2_17_x86_64.manylinux2014_x86_64.whl (273 kB)\n",
            "\u001b[2K     \u001b[90m━━━━━━━━━━━━━━━━━━━━━━━━━━━━━━━━━━━━━━\u001b[0m \u001b[32m273.7/273.7 kB\u001b[0m \u001b[31m27.2 MB/s\u001b[0m eta \u001b[36m0:00:00\u001b[0m\n",
            "\u001b[?25hRequirement already satisfied: torchaudio>=0.8.0 in /usr/local/lib/python3.10/dist-packages (from fairseq==0.12.2) (2.1.0.dev20230531+cu118)\n",
            "Requirement already satisfied: scikit-learn in /usr/local/lib/python3.10/dist-packages (from fairseq==0.12.2) (1.2.2)\n",
            "Requirement already satisfied: packaging in /usr/local/lib/python3.10/dist-packages (from fairseq==0.12.2) (23.1)\n",
            "Collecting antlr4-python3-runtime==4.8 (from hydra-core<1.1,>=1.0.7->fairseq==0.12.2)\n",
            "  Downloading antlr4-python3-runtime-4.8.tar.gz (112 kB)\n",
            "\u001b[2K     \u001b[90m━━━━━━━━━━━━━━━━━━━━━━━━━━━━━━━━━━━━━━\u001b[0m \u001b[32m112.4/112.4 kB\u001b[0m \u001b[31m16.2 MB/s\u001b[0m eta \u001b[36m0:00:00\u001b[0m\n",
            "\u001b[?25h  Preparing metadata (setup.py) ... \u001b[?25l\u001b[?25hdone\n",
            "Requirement already satisfied: PyYAML>=5.1.* in /usr/local/lib/python3.10/dist-packages (from omegaconf<2.1->fairseq==0.12.2) (6.0)\n",
            "Requirement already satisfied: typing-extensions in /usr/local/lib/python3.10/dist-packages (from omegaconf<2.1->fairseq==0.12.2) (4.5.0)\n",
            "Collecting portalocker (from sacrebleu>=1.4.12->fairseq==0.12.2)\n",
            "  Downloading portalocker-2.7.0-py2.py3-none-any.whl (15 kB)\n",
            "Requirement already satisfied: tabulate>=0.8.9 in /usr/local/lib/python3.10/dist-packages (from sacrebleu>=1.4.12->fairseq==0.12.2) (0.8.10)\n",
            "Collecting colorama (from sacrebleu>=1.4.12->fairseq==0.12.2)\n",
            "  Downloading colorama-0.4.6-py2.py3-none-any.whl (25 kB)\n",
            "Requirement already satisfied: lxml in /usr/local/lib/python3.10/dist-packages (from sacrebleu>=1.4.12->fairseq==0.12.2) (4.9.2)\n",
            "Requirement already satisfied: filelock in /usr/local/lib/python3.10/dist-packages (from torch>=1.13->fairseq==0.12.2) (3.12.0)\n",
            "Requirement already satisfied: sympy in /usr/local/lib/python3.10/dist-packages (from torch>=1.13->fairseq==0.12.2) (1.11.1)\n",
            "Requirement already satisfied: networkx in /usr/local/lib/python3.10/dist-packages (from torch>=1.13->fairseq==0.12.2) (3.1)\n",
            "Requirement already satisfied: jinja2 in /usr/local/lib/python3.10/dist-packages (from torch>=1.13->fairseq==0.12.2) (3.1.2)\n",
            "Requirement already satisfied: fsspec in /usr/local/lib/python3.10/dist-packages (from torch>=1.13->fairseq==0.12.2) (2023.4.0)\n",
            "Requirement already satisfied: pytorch-triton==2.1.0+9820899b38 in /usr/local/lib/python3.10/dist-packages (from torch>=1.13->fairseq==0.12.2) (2.1.0+9820899b38)\n",
            "Requirement already satisfied: pycparser in /usr/local/lib/python3.10/dist-packages (from cffi->fairseq==0.12.2) (2.21)\n",
            "Requirement already satisfied: scipy>=1.3.2 in /usr/local/lib/python3.10/dist-packages (from scikit-learn->fairseq==0.12.2) (1.10.1)\n",
            "Requirement already satisfied: joblib>=1.1.1 in /usr/local/lib/python3.10/dist-packages (from scikit-learn->fairseq==0.12.2) (1.2.0)\n",
            "Requirement already satisfied: threadpoolctl>=2.0.0 in /usr/local/lib/python3.10/dist-packages (from scikit-learn->fairseq==0.12.2) (3.1.0)\n",
            "Requirement already satisfied: MarkupSafe>=2.0 in /usr/local/lib/python3.10/dist-packages (from jinja2->torch>=1.13->fairseq==0.12.2) (2.1.2)\n",
            "Requirement already satisfied: mpmath>=0.19 in /usr/local/lib/python3.10/dist-packages (from sympy->torch>=1.13->fairseq==0.12.2) (1.3.0)\n",
            "Building wheels for collected packages: fairseq, antlr4-python3-runtime\n",
            "  Building editable for fairseq (pyproject.toml) ... \u001b[?25l\u001b[?25hdone\n",
            "  Created wheel for fairseq: filename=fairseq-0.12.2-0.editable-cp310-cp310-linux_x86_64.whl size=9219 sha256=1aef6cc843fbd25191ff7609c1d652fdbb332274b90b70f0e8b10e53d2a248d6\n",
            "  Stored in directory: /tmp/pip-ephem-wheel-cache-86dhkoco/wheels/c6/d7/db/bc419b1daa8266aa8de2a7c4d29f62dbfa814e8701fe4695a2\n",
            "  Building wheel for antlr4-python3-runtime (setup.py) ... \u001b[?25l\u001b[?25hdone\n",
            "  Created wheel for antlr4-python3-runtime: filename=antlr4_python3_runtime-4.8-py3-none-any.whl size=141210 sha256=994fca558c98945a0f4cdd33ba7890b21415ca4ae0394d2d811535bdcfdb875a\n",
            "  Stored in directory: /root/.cache/pip/wheels/a7/20/bd/e1477d664f22d99989fd28ee1a43d6633dddb5cb9e801350d5\n",
            "Successfully built fairseq antlr4-python3-runtime\n",
            "Installing collected packages: bitarray, antlr4-python3-runtime, portalocker, omegaconf, colorama, sacrebleu, hydra-core, fairseq\n",
            "Successfully installed antlr4-python3-runtime-4.8 bitarray-2.7.4 colorama-0.4.6 fairseq-0.12.2 hydra-core-1.0.7 omegaconf-2.0.6 portalocker-2.7.0 sacrebleu-2.3.1\n",
            "Looking in indexes: https://pypi.org/simple, https://us-python.pkg.dev/colab-wheels/public/simple/\n",
            "Collecting git+https://github.com/abdeladim-s/easymms\n",
            "  Cloning https://github.com/abdeladim-s/easymms to /tmp/pip-req-build-uxsvd_ug\n",
            "  Running command git clone --filter=blob:none --quiet https://github.com/abdeladim-s/easymms /tmp/pip-req-build-uxsvd_ug\n",
            "  Resolved https://github.com/abdeladim-s/easymms to commit 82314a97986ca5b398c880704dd4a060ca280a2a\n",
            "  Preparing metadata (setup.py) ... \u001b[?25l\u001b[?25hdone\n",
            "Requirement already satisfied: fairseq~=0.12.2 in /content/fairseq (from easymms==0.1.4) (0.12.2)\n",
            "Collecting pydub~=0.25.1 (from easymms==0.1.4)\n",
            "  Downloading pydub-0.25.1-py2.py3-none-any.whl (32 kB)\n",
            "Collecting platformdirs==3.5.1 (from easymms==0.1.4)\n",
            "  Downloading platformdirs-3.5.1-py3-none-any.whl (15 kB)\n",
            "Requirement already satisfied: editdistance in /usr/local/lib/python3.10/dist-packages (from easymms==0.1.4) (0.6.2)\n",
            "Collecting sox (from easymms==0.1.4)\n",
            "  Downloading sox-1.4.1-py2.py3-none-any.whl (39 kB)\n",
            "Collecting dataclasses (from easymms==0.1.4)\n",
            "  Downloading dataclasses-0.6-py3-none-any.whl (14 kB)\n",
            "Requirement already satisfied: soundfile in /usr/local/lib/python3.10/dist-packages (from easymms==0.1.4) (0.12.1)\n",
            "Requirement already satisfied: cffi in /usr/local/lib/python3.10/dist-packages (from fairseq~=0.12.2->easymms==0.1.4) (1.15.1)\n",
            "Requirement already satisfied: cython in /usr/local/lib/python3.10/dist-packages (from fairseq~=0.12.2->easymms==0.1.4) (0.29.34)\n",
            "Requirement already satisfied: hydra-core<1.1,>=1.0.7 in /usr/local/lib/python3.10/dist-packages (from fairseq~=0.12.2->easymms==0.1.4) (1.0.7)\n",
            "Requirement already satisfied: omegaconf<2.1 in /usr/local/lib/python3.10/dist-packages (from fairseq~=0.12.2->easymms==0.1.4) (2.0.6)\n",
            "Requirement already satisfied: numpy>=1.21.3 in /usr/local/lib/python3.10/dist-packages (from fairseq~=0.12.2->easymms==0.1.4) (1.22.4)\n",
            "Requirement already satisfied: regex in /usr/local/lib/python3.10/dist-packages (from fairseq~=0.12.2->easymms==0.1.4) (2022.10.31)\n",
            "Requirement already satisfied: sacrebleu>=1.4.12 in /usr/local/lib/python3.10/dist-packages (from fairseq~=0.12.2->easymms==0.1.4) (2.3.1)\n",
            "Requirement already satisfied: torch>=1.13 in /usr/local/lib/python3.10/dist-packages (from fairseq~=0.12.2->easymms==0.1.4) (2.1.0.dev20230531+cu118)\n",
            "Requirement already satisfied: tqdm in /usr/local/lib/python3.10/dist-packages (from fairseq~=0.12.2->easymms==0.1.4) (4.65.0)\n",
            "Requirement already satisfied: bitarray in /usr/local/lib/python3.10/dist-packages (from fairseq~=0.12.2->easymms==0.1.4) (2.7.4)\n",
            "Requirement already satisfied: torchaudio>=0.8.0 in /usr/local/lib/python3.10/dist-packages (from fairseq~=0.12.2->easymms==0.1.4) (2.1.0.dev20230531+cu118)\n",
            "Requirement already satisfied: scikit-learn in /usr/local/lib/python3.10/dist-packages (from fairseq~=0.12.2->easymms==0.1.4) (1.2.2)\n",
            "Requirement already satisfied: packaging in /usr/local/lib/python3.10/dist-packages (from fairseq~=0.12.2->easymms==0.1.4) (23.1)\n",
            "Requirement already satisfied: pycparser in /usr/local/lib/python3.10/dist-packages (from cffi->fairseq~=0.12.2->easymms==0.1.4) (2.21)\n",
            "Requirement already satisfied: antlr4-python3-runtime==4.8 in /usr/local/lib/python3.10/dist-packages (from hydra-core<1.1,>=1.0.7->fairseq~=0.12.2->easymms==0.1.4) (4.8)\n",
            "Requirement already satisfied: PyYAML>=5.1.* in /usr/local/lib/python3.10/dist-packages (from omegaconf<2.1->fairseq~=0.12.2->easymms==0.1.4) (6.0)\n",
            "Requirement already satisfied: typing-extensions in /usr/local/lib/python3.10/dist-packages (from omegaconf<2.1->fairseq~=0.12.2->easymms==0.1.4) (4.5.0)\n",
            "Requirement already satisfied: portalocker in /usr/local/lib/python3.10/dist-packages (from sacrebleu>=1.4.12->fairseq~=0.12.2->easymms==0.1.4) (2.7.0)\n",
            "Requirement already satisfied: tabulate>=0.8.9 in /usr/local/lib/python3.10/dist-packages (from sacrebleu>=1.4.12->fairseq~=0.12.2->easymms==0.1.4) (0.8.10)\n",
            "Requirement already satisfied: colorama in /usr/local/lib/python3.10/dist-packages (from sacrebleu>=1.4.12->fairseq~=0.12.2->easymms==0.1.4) (0.4.6)\n",
            "Requirement already satisfied: lxml in /usr/local/lib/python3.10/dist-packages (from sacrebleu>=1.4.12->fairseq~=0.12.2->easymms==0.1.4) (4.9.2)\n",
            "Requirement already satisfied: filelock in /usr/local/lib/python3.10/dist-packages (from torch>=1.13->fairseq~=0.12.2->easymms==0.1.4) (3.12.0)\n",
            "Requirement already satisfied: sympy in /usr/local/lib/python3.10/dist-packages (from torch>=1.13->fairseq~=0.12.2->easymms==0.1.4) (1.11.1)\n",
            "Requirement already satisfied: networkx in /usr/local/lib/python3.10/dist-packages (from torch>=1.13->fairseq~=0.12.2->easymms==0.1.4) (3.1)\n",
            "Requirement already satisfied: jinja2 in /usr/local/lib/python3.10/dist-packages (from torch>=1.13->fairseq~=0.12.2->easymms==0.1.4) (3.1.2)\n",
            "Requirement already satisfied: fsspec in /usr/local/lib/python3.10/dist-packages (from torch>=1.13->fairseq~=0.12.2->easymms==0.1.4) (2023.4.0)\n",
            "Requirement already satisfied: pytorch-triton==2.1.0+9820899b38 in /usr/local/lib/python3.10/dist-packages (from torch>=1.13->fairseq~=0.12.2->easymms==0.1.4) (2.1.0+9820899b38)\n",
            "Requirement already satisfied: scipy>=1.3.2 in /usr/local/lib/python3.10/dist-packages (from scikit-learn->fairseq~=0.12.2->easymms==0.1.4) (1.10.1)\n",
            "Requirement already satisfied: joblib>=1.1.1 in /usr/local/lib/python3.10/dist-packages (from scikit-learn->fairseq~=0.12.2->easymms==0.1.4) (1.2.0)\n",
            "Requirement already satisfied: threadpoolctl>=2.0.0 in /usr/local/lib/python3.10/dist-packages (from scikit-learn->fairseq~=0.12.2->easymms==0.1.4) (3.1.0)\n",
            "Requirement already satisfied: MarkupSafe>=2.0 in /usr/local/lib/python3.10/dist-packages (from jinja2->torch>=1.13->fairseq~=0.12.2->easymms==0.1.4) (2.1.2)\n",
            "Requirement already satisfied: mpmath>=0.19 in /usr/local/lib/python3.10/dist-packages (from sympy->torch>=1.13->fairseq~=0.12.2->easymms==0.1.4) (1.3.0)\n",
            "Building wheels for collected packages: easymms\n",
            "  Building wheel for easymms (setup.py) ... \u001b[?25l\u001b[?25hdone\n",
            "  Created wheel for easymms: filename=easymms-0.1.4-py3-none-any.whl size=19056 sha256=f9ba346bb9faa2536357a5088b8090c1697777786c8547fcf5da7550a5dec2c6\n",
            "  Stored in directory: /tmp/pip-ephem-wheel-cache-33t843la/wheels/f4/d3/0c/caa76b919b01b686a5aa114b95b84fd1a68f7c19d04bf9857d\n",
            "Successfully built easymms\n",
            "Installing collected packages: pydub, dataclasses, sox, platformdirs, easymms\n",
            "  Attempting uninstall: platformdirs\n",
            "    Found existing installation: platformdirs 3.3.0\n",
            "    Uninstalling platformdirs-3.3.0:\n",
            "      Successfully uninstalled platformdirs-3.3.0\n",
            "Successfully installed dataclasses-0.6 easymms-0.1.4 platformdirs-3.5.1 pydub-0.25.1 sox-1.4.1\n"
          ]
        },
        {
          "output_type": "display_data",
          "data": {
            "application/vnd.colab-display-data+json": {
              "pip_warning": {
                "packages": [
                  "dataclasses"
                ]
              }
            }
          },
          "metadata": {}
        }
      ]
    },
    {
      "cell_type": "code",
      "source": [
        "# @title Download Model { display-mode: \"form\" }\n",
        "\n",
        "model = 'mms1b_fl102' #@param [\"mms1b_fl102\", \"mms1b_l1107\", \"mms1b_all\"] {allow-input: true}\n",
        "\n",
        "if model == \"mms1b_fl102\": \n",
        "  !wget -P ./models 'https://dl.fbaipublicfiles.com/mms/asr/mms1b_fl102.pt'\n",
        "\n",
        "elif model == \"mms1b_l1107\":\n",
        "  !wget -P ./models 'https://dl.fbaipublicfiles.com/mms/asr/mms1b_l1107.pt'\n",
        "\n",
        "elif model == \"mms1b_all\":\n",
        "  !wget -P ./models 'https://dl.fbaipublicfiles.com/mms/asr/mms1b_all.pt'"
      ],
      "metadata": {
        "colab": {
          "base_uri": "https://localhost:8080/"
        },
        "id": "X6Q1G0xv9ClN",
        "outputId": "f59e1a5a-3b8b-486a-855a-23f55729adcb"
      },
      "execution_count": null,
      "outputs": [
        {
          "output_type": "stream",
          "name": "stdout",
          "text": [
            "--2023-05-31 16:58:58--  https://dl.fbaipublicfiles.com/mms/asr/mms1b_fl102.pt\n",
            "Resolving dl.fbaipublicfiles.com (dl.fbaipublicfiles.com)... 52.84.162.119, 52.84.162.51, 52.84.162.20, ...\n",
            "Connecting to dl.fbaipublicfiles.com (dl.fbaipublicfiles.com)|52.84.162.119|:443... connected.\n",
            "HTTP request sent, awaiting response... 200 OK\n",
            "Length: 4851043301 (4.5G) [binary/octet-stream]\n",
            "Saving to: ‘./models/mms1b_fl102.pt’\n",
            "\n",
            "mms1b_fl102.pt      100%[===================>]   4.52G   179MB/s    in 24s     \n",
            "\n",
            "2023-05-31 16:59:22 (195 MB/s) - ‘./models/mms1b_fl102.pt’ saved [4851043301/4851043301]\n",
            "\n"
          ]
        }
      ]
    },
    {
      "cell_type": "markdown",
      "source": [
        "# Upload Media files"
      ],
      "metadata": {
        "id": "JORcqzJkB2Vv"
      }
    },
    {
      "cell_type": "markdown",
      "source": [
        "# Split media file to equal 30s length segments"
      ],
      "metadata": {
        "id": "9Xc9RzFZ0yXv"
      }
    },
    {
      "cell_type": "code",
      "source": [
        "!mkdir /content/parts\n",
        "!ffmpeg -i /content/fbvideo.wav -f segment -segment_time 30 -c copy /content/parts/output%02d.wav"
      ],
      "metadata": {
        "colab": {
          "base_uri": "https://localhost:8080/"
        },
        "id": "76PqkcmnU0DL",
        "outputId": "92ffb029-4c5f-4813-a75c-12315a62d126"
      },
      "execution_count": null,
      "outputs": [
        {
          "output_type": "stream",
          "name": "stdout",
          "text": [
            "mkdir: cannot create directory ‘/content/parts’: File exists\n",
            "ffmpeg version 4.2.7-0ubuntu0.1 Copyright (c) 2000-2022 the FFmpeg developers\n",
            "  built with gcc 9 (Ubuntu 9.4.0-1ubuntu1~20.04.1)\n",
            "  configuration: --prefix=/usr --extra-version=0ubuntu0.1 --toolchain=hardened --libdir=/usr/lib/x86_64-linux-gnu --incdir=/usr/include/x86_64-linux-gnu --arch=amd64 --enable-gpl --disable-stripping --enable-avresample --disable-filter=resample --enable-avisynth --enable-gnutls --enable-ladspa --enable-libaom --enable-libass --enable-libbluray --enable-libbs2b --enable-libcaca --enable-libcdio --enable-libcodec2 --enable-libflite --enable-libfontconfig --enable-libfreetype --enable-libfribidi --enable-libgme --enable-libgsm --enable-libjack --enable-libmp3lame --enable-libmysofa --enable-libopenjpeg --enable-libopenmpt --enable-libopus --enable-libpulse --enable-librsvg --enable-librubberband --enable-libshine --enable-libsnappy --enable-libsoxr --enable-libspeex --enable-libssh --enable-libtheora --enable-libtwolame --enable-libvidstab --enable-libvorbis --enable-libvpx --enable-libwavpack --enable-libwebp --enable-libx265 --enable-libxml2 --enable-libxvid --enable-libzmq --enable-libzvbi --enable-lv2 --enable-omx --enable-openal --enable-opencl --enable-opengl --enable-sdl2 --enable-libdc1394 --enable-libdrm --enable-libiec61883 --enable-nvenc --enable-chromaprint --enable-frei0r --enable-libx264 --enable-shared\n",
            "  libavutil      56. 31.100 / 56. 31.100\n",
            "  libavcodec     58. 54.100 / 58. 54.100\n",
            "  libavformat    58. 29.100 / 58. 29.100\n",
            "  libavdevice    58.  8.100 / 58.  8.100\n",
            "  libavfilter     7. 57.100 /  7. 57.100\n",
            "  libavresample   4.  0.  0 /  4.  0.  0\n",
            "  libswscale      5.  5.100 /  5.  5.100\n",
            "  libswresample   3.  5.100 /  3.  5.100\n",
            "  libpostproc    55.  5.100 / 55.  5.100\n",
            "\u001b[0;33mGuessed Channel Layout for Input Stream #0.0 : stereo\n",
            "\u001b[0mInput #0, wav, from '/content/fbvideo.wav':\n",
            "  Metadata:\n",
            "    encoder         : Lavf58.29.100\n",
            "  Duration: 00:09:38.02, bitrate: 512 kb/s\n",
            "    Stream #0:0: Audio: pcm_s16le ([1][0][0][0] / 0x0001), 16000 Hz, stereo, s16, 512 kb/s\n",
            "\u001b[1;35m[segment @ 0x560ff04e9bc0] \u001b[0mOpening '/content/parts/output00.wav' for writing\n",
            "Output #0, segment, to '/content/parts/output%02d.wav':\n",
            "  Metadata:\n",
            "    encoder         : Lavf58.29.100\n",
            "    Stream #0:0: Audio: pcm_s16le ([1][0][0][0] / 0x0001), 16000 Hz, stereo, s16, 512 kb/s\n",
            "Stream mapping:\n",
            "  Stream #0:0 -> #0:0 (copy)\n",
            "Press [q] to stop, [?] for help\n",
            "\u001b[1;35m[segment @ 0x560ff04e9bc0] \u001b[0mOpening '/content/parts/output01.wav' for writing\n",
            "\u001b[1;35m[segment @ 0x560ff04e9bc0] \u001b[0mOpening '/content/parts/output02.wav' for writing\n",
            "\u001b[1;35m[segment @ 0x560ff04e9bc0] \u001b[0mOpening '/content/parts/output03.wav' for writing\n",
            "\u001b[1;35m[segment @ 0x560ff04e9bc0] \u001b[0mOpening '/content/parts/output04.wav' for writing\n",
            "\u001b[1;35m[segment @ 0x560ff04e9bc0] \u001b[0mOpening '/content/parts/output05.wav' for writing\n",
            "\u001b[1;35m[segment @ 0x560ff04e9bc0] \u001b[0mOpening '/content/parts/output06.wav' for writing\n",
            "\u001b[1;35m[segment @ 0x560ff04e9bc0] \u001b[0mOpening '/content/parts/output07.wav' for writing\n",
            "\u001b[1;35m[segment @ 0x560ff04e9bc0] \u001b[0mOpening '/content/parts/output08.wav' for writing\n",
            "\u001b[1;35m[segment @ 0x560ff04e9bc0] \u001b[0mOpening '/content/parts/output09.wav' for writing\n",
            "\u001b[1;35m[segment @ 0x560ff04e9bc0] \u001b[0mOpening '/content/parts/output10.wav' for writing\n",
            "\u001b[1;35m[segment @ 0x560ff04e9bc0] \u001b[0mOpening '/content/parts/output11.wav' for writing\n",
            "\u001b[1;35m[segment @ 0x560ff04e9bc0] \u001b[0mOpening '/content/parts/output12.wav' for writing\n",
            "\u001b[1;35m[segment @ 0x560ff04e9bc0] \u001b[0mOpening '/content/parts/output13.wav' for writing\n",
            "\u001b[1;35m[segment @ 0x560ff04e9bc0] \u001b[0mOpening '/content/parts/output14.wav' for writing\n",
            "\u001b[1;35m[segment @ 0x560ff04e9bc0] \u001b[0mOpening '/content/parts/output15.wav' for writing\n",
            "\u001b[1;35m[segment @ 0x560ff04e9bc0] \u001b[0mOpening '/content/parts/output16.wav' for writing\n",
            "\u001b[1;35m[segment @ 0x560ff04e9bc0] \u001b[0mOpening '/content/parts/output17.wav' for writing\n",
            "\u001b[1;35m[segment @ 0x560ff04e9bc0] \u001b[0mOpening '/content/parts/output18.wav' for writing\n",
            "\u001b[1;35m[segment @ 0x560ff04e9bc0] \u001b[0mOpening '/content/parts/output19.wav' for writing\n",
            "size=N/A time=00:09:37.98 bitrate=N/A speed=6.53e+03x    \n",
            "video:0kB audio:36126kB subtitle:0kB other streams:0kB global headers:0kB muxing overhead: unknown\n"
          ]
        }
      ]
    },
    {
      "cell_type": "code",
      "source": [
        "import os\n",
        "f = os.listdir('/content/parts')\n",
        "files = ['/content/parts/' + file for file in sorted(f) if not file.startswith('.')]\n",
        "files"
      ],
      "metadata": {
        "id": "VFx4g0jmKSW3",
        "colab": {
          "base_uri": "https://localhost:8080/"
        },
        "outputId": "11b2ce0b-2f13-4a2d-e74c-9da737a3391b"
      },
      "execution_count": null,
      "outputs": [
        {
          "output_type": "execute_result",
          "data": {
            "text/plain": [
              "['/content/parts/output00.wav',\n",
              " '/content/parts/output01.wav',\n",
              " '/content/parts/output02.wav',\n",
              " '/content/parts/output03.wav',\n",
              " '/content/parts/output04.wav',\n",
              " '/content/parts/output05.wav',\n",
              " '/content/parts/output06.wav',\n",
              " '/content/parts/output07.wav',\n",
              " '/content/parts/output08.wav',\n",
              " '/content/parts/output09.wav',\n",
              " '/content/parts/output10.wav',\n",
              " '/content/parts/output11.wav',\n",
              " '/content/parts/output12.wav',\n",
              " '/content/parts/output13.wav',\n",
              " '/content/parts/output14.wav',\n",
              " '/content/parts/output15.wav',\n",
              " '/content/parts/output16.wav',\n",
              " '/content/parts/output17.wav',\n",
              " '/content/parts/output18.wav',\n",
              " '/content/parts/output19.wav']"
            ]
          },
          "metadata": {},
          "execution_count": 14
        }
      ]
    },
    {
      "cell_type": "markdown",
      "source": [
        "# ASR Model inference"
      ],
      "metadata": {
        "id": "08UVjxMHCI0U"
      }
    },
    {
      "cell_type": "code",
      "source": [
        "from easymms.models.asr import ASRModel\n",
        "\n",
        "asr = ASRModel(model=f'./models/{model}.pt')\n",
        "\n",
        "transcriptions = asr.transcribe(files, lang='spa', align=False)\n",
        "for i, transcription in enumerate(transcriptions):\n",
        "    print(f\">>> file {files[i]}\")\n",
        "    print(transcription)"
      ],
      "metadata": {
        "colab": {
          "base_uri": "https://localhost:8080/"
        },
        "id": "74_X86PMDVmV",
        "outputId": "05796518-3941-4b84-91d6-dfae7bb86b00"
      },
      "execution_count": null,
      "outputs": [
        {
          "output_type": "stream",
          "name": "stderr",
          "text": [
            "INFO:easymms.models.asr:Preparing file /content/parts/output00.wav\n",
            "INFO:easymms.models.asr:Preparing file /content/parts/output01.wav\n",
            "INFO:easymms.models.asr:Preparing file /content/parts/output02.wav\n",
            "INFO:easymms.models.asr:Preparing file /content/parts/output03.wav\n",
            "INFO:easymms.models.asr:Preparing file /content/parts/output04.wav\n",
            "INFO:easymms.models.asr:Preparing file /content/parts/output05.wav\n",
            "INFO:easymms.models.asr:Preparing file /content/parts/output06.wav\n",
            "INFO:easymms.models.asr:Preparing file /content/parts/output07.wav\n",
            "INFO:easymms.models.asr:Preparing file /content/parts/output08.wav\n",
            "INFO:easymms.models.asr:Preparing file /content/parts/output09.wav\n",
            "INFO:easymms.models.asr:Preparing file /content/parts/output10.wav\n",
            "INFO:easymms.models.asr:Preparing file /content/parts/output11.wav\n",
            "INFO:easymms.models.asr:Preparing file /content/parts/output12.wav\n",
            "INFO:easymms.models.asr:Preparing file /content/parts/output13.wav\n",
            "INFO:easymms.models.asr:Preparing file /content/parts/output14.wav\n",
            "INFO:easymms.models.asr:Preparing file /content/parts/output15.wav\n",
            "INFO:easymms.models.asr:Preparing file /content/parts/output16.wav\n",
            "INFO:easymms.models.asr:Preparing file /content/parts/output17.wav\n",
            "INFO:easymms.models.asr:Preparing file /content/parts/output18.wav\n",
            "INFO:easymms.models.asr:Preparing file /content/parts/output19.wav\n",
            "INFO:easymms.models.asr:Setting up tmp dir: <TemporaryDirectory '/tmp/tmpzby2ulyy'>\n",
            "WARNING:root:Unknown device option cuda, Use one of (cuda, cpu, tpu)\n",
            "INFO:examples.speech_recognition.new.infer:/content/fairseq/models/mms1b_fl102.pt\n",
            "INFO:examples.speech_recognition.new.infer:>>> LOADING ADAPTER: spa\n",
            "INFO:fairseq.data.audio.raw_audio_dataset:loaded 20, skipped 0 samples\n",
            "INFO:fairseq.tasks.fairseq_task:can_reuse_epoch_itr = True\n",
            "INFO:fairseq.tasks.fairseq_task:reuse_dataloader = True\n",
            "INFO:fairseq.tasks.fairseq_task:rebuild_batches = True\n",
            "INFO:fairseq.tasks.fairseq_task:batches will be rebuilt for each epoch\n",
            "INFO:fairseq.tasks.fairseq_task:creating new batches for epoch 1\n",
            "INFO:examples.speech_recognition.new.infer:HYPO: e sique ya hecho incapié en eso me queda un minuto usted misma ha declarado que ya empiezan a renunciar directores de los centros: cuántos le han renunciado d cáles fise que a mí me parece eso muy bueno porque ya saben que vamos a dar la mano dura que usted escucha es precisamente para todo aquel que esté involucrado en actos de corrupción y o\n",
            "INFO:examples.speech_recognition.new.infer:REF: dummy dummy\n",
            "INFO:examples.speech_recognition.new.infer:---------------------\n",
            "INFO:examples.speech_recognition.new.infer:HYPO: ión de las cárceles. situación de las cárceles es un problema noes que quiere escusarme pero es un problema eredado; es un problema netamente estructural que se enfoca plenamente e dos problemas grandes en cuanto a estos recintos uno como la corrupción ha llegado hasta esos centros y por supuesto el crimen organizado ha generado dentro de ellos una pérdida de la gobernanciao\n",
            "INFO:examples.speech_recognition.new.infer:REF: dummy dummy\n",
            "INFO:examples.speech_recognition.new.infer:---------------------\n",
            "INFO:examples.speech_recognition.new.infer:HYPO: structura básica que aí hay y por supuesto establecer algunos ejes fundamentales para el trabajo que tenemos que hacer que es  verificar que ese asinamiento que usted habla perfecto que lo conosemos pues pueda irse descongestionando a través de la preliberación trabajos que se hagan con la corte de justicia o la corte suprema y trabajos que se van hacer en enfermedade terminales solo quiero comentarle algo y muy\n",
            "INFO:examples.speech_recognition.new.infer:REF: dummy dummy\n",
            "INFO:examples.speech_recognition.new.infer:---------------------\n",
            "INFO:examples.speech_recognition.new.infer:HYPO: hoya pues  deyó la mejor de las suertes en ese plan a usted y a la presidenta ojalá logren dar el buelco que tanta falta hace nosotros vamos tener comunicación por supuesto conforme se vaya dando las cosas y ojalá se calme por lo pronto se calme la violencia dentre los centos penitenciarios julisa mil gracias por haber me acompañado que pase buena noche a ustedes muchas gracias al julicio havía nueva viceministra de seguridad y designada por la presidena\n",
            "INFO:examples.speech_recognition.new.infer:REF: dummy dummy\n",
            "INFO:examples.speech_recognition.new.infer:---------------------\n",
            "INFO:examples.speech_recognition.new.infer:HYPO: quería las cárceles julicia medecía estuvo en la mesa de cooperates aa cerrar el tema económico qué me quería cir comentarle de fernando que esta doy bastante satisfecha porque en la mesa de cooperate los países amigos sobre todo ee. uu y lo que es a países que están relacionados con la onu han dicho que van apoyar todo el proceso que está impulsando la presi\n",
            "INFO:examples.speech_recognition.new.infer:REF: dummy dummy\n",
            "INFO:examples.speech_recognition.new.infer:---------------------\n",
            "INFO:examples.speech_recognition.new.infer:HYPO: or supuesto aquel que quiera renunciar que se sienta incapaz y que sepa que vamos a llegar hasta el último eslavón en los casos de corrución mejor que renuncie se habla quéen renunciado durante un tiempo las últimas semanas y días alrededor como de 1ien no he visto todavía en mi despacho esas personas porque igualmente he ordenado que se clasifiquen y se investiguen por qué  renunciado\n",
            "INFO:examples.speech_recognition.new.infer:REF: dummy dummy\n",
            "INFO:examples.speech_recognition.new.infer:---------------------\n",
            "INFO:examples.speech_recognition.new.infer:HYPO: le doy la bienvenida a juslicia villanueva viceministra de seguridad y designada por la presidenta de ondurasy homar a castro para intervenir las cárceles juticia cmoebevenidaennoch buenanoches fernando un gusto para usted y a todos los que hoy tienen el gusto de ver su programa conclusiones que amable muchasgracias u es esán ustedes tratando  de accionar y siete heridos en ilama tre en move\n",
            "INFO:examples.speech_recognition.new.infer:REF: dummy dummy\n",
            "INFO:examples.speech_recognition.new.infer:---------------------\n",
            "INFO:examples.speech_recognition.new.infer:HYPO: taes para generar relevo generacionales lia pero nunca copiando el esquema bukuéle no o hay psibili a s p decirle que respetamos lo que el presidente bukel hace por supuesto cada país hace de su soberanía lo que establece correcto nosotros por supuesto estamos generando nuestro propio modelo e eo\n",
            "INFO:examples.speech_recognition.new.infer:REF: dummy dummy\n",
            "INFO:examples.speech_recognition.new.infer:---------------------\n",
            "INFO:examples.speech_recognition.new.infer:HYPO: crecios de rehabilitación y por supuesto para la reinserción social eso lo hemos venido viendo y significativamente es parte de uno de los jeges de seguridad nacional que se deben de combatir paralelamente con otros que en el país están afectando a claro y tengo que darle el punto este no es un tema que sea stolamteneteao\n",
            "INFO:examples.speech_recognition.new.infer:REF: dummy dummy\n",
            "INFO:examples.speech_recognition.new.infer:---------------------\n",
            "INFO:examples.speech_recognition.new.infer:HYPO: importante en cuanto al dinero hoy casalmente et be se n a a co lmesade coperae  pr qe marcar una pausa déme damás unos minutitos regres aterizamos la idea de la mesa de cooperantes y le pregnto yo esque por supuesto ya hay problemas no ya le estánl renunciando e\n",
            "INFO:examples.speech_recognition.new.infer:REF: dummy dummy\n",
            "INFO:examples.speech_recognition.new.infer:---------------------\n",
            "INFO:examples.speech_recognition.new.infer:HYPO: administración de la presidenta giomara castro claro que no estoe seredado? pero esto es multifactorial y aquí se necesita muchísima plata asinamiento cundo estamos hablando de lugares en los que no se cumplen con los requisitos mínimos de acceso a la salú para los reos    corrupción cdo estamoshablando de tráfico de armas cudo estamoshablando de tráfico de de drogas cum a  fta de personal e m abla de plata; estamohablando de miles de millones de dólares para poder enfrentar\n",
            "INFO:examples.speech_recognition.new.infer:REF: dummy dummy\n",
            "INFO:examples.speech_recognition.new.infer:---------------------\n",
            "INFO:examples.speech_recognition.new.infer:HYPO: eno e por v e  e  fácil no juslizaya además con armas de fuego en el caso de santa bárbara e la cosa sigue iguál cuvan empesar y por donde fernando creo que quiero decirles que las cosas no siguen igual. se ha tomado una determinación declarando la presidenta castro una emergencia nacional la situacio\n",
            "INFO:examples.speech_recognition.new.infer:REF: dummy dummy\n",
            "INFO:examples.speech_recognition.new.infer:---------------------\n",
            "INFO:examples.speech_recognition.new.infer:HYPO: pmer cambios que sin duda alguna harían una grandiferencia justiza y la situación económica de onduras beo amí la matemática no me da para pensar que tiene los recursos para acerlo yo creo fernando que tenemos que ser un poco calculadores y científicos alrededor de ver cuánto ha invertido la presidenta alrededor de este problema la primera de la sala\n",
            "INFO:examples.speech_recognition.new.infer:REF: dummy dummy\n",
            "INFO:examples.speech_recognition.new.infer:---------------------\n",
            "INFO:examples.speech_recognition.new.infer:HYPO: iidenta castro e  hablando en los cuatro ejs d seguridad estamos hablando en el tema de corrupción estamos hablando también que se enfocarán en el tema de reinserción y rehabilitación y otro tema importante que es en generar que estas cárceles sean manejadas por personal capacitado es decir la escuela penitenciaria y la universidad penitencaria serán uno de los ejes imporoto\n",
            "INFO:examples.speech_recognition.new.infer:REF: dummy dummy\n",
            "INFO:examples.speech_recognition.new.infer:---------------------\n",
            "INFO:examples.speech_recognition.new.infer:HYPO: ncarados de los bienes públicos en esa ocasión comenzaremos entonces revisando si los dineros que ha destinado la presidenta en ese momento están siendo bien distribuidos por otro lado la presidenta ha establecido una clara prioridad a este tema y me ha dicho dr avia nueva revise y vamos hacer incapie en generar también de alguna manera un apoyo para  las personas que aí trabajan la e o\n",
            "INFO:examples.speech_recognition.new.infer:REF: dummy dummy\n",
            "INFO:examples.speech_recognition.new.infer:---------------------\n",
            "INFO:examples.speech_recognition.new.infer:HYPO: directores de centros penales que renuncian porque no vaya hacer qe los investiguen: lo sustituyeron.ya los etán vigando es el principal indicador de que las cosas están mal me termina la idea de lo económico y regresamos para que me responda si le parece esto. estoy con justicia vínueva viceministra de seguridad y desipridetcto pa i ry alreglar las cárceles  c  con justicia vía nuva iceministra de seguridad y designada por la presidenta de onduras iomara castro para intervenir\n",
            "INFO:examples.speech_recognition.new.infer:REF: dummy dummy\n",
            "INFO:examples.speech_recognition.new.infer:---------------------\n",
            "INFO:examples.speech_recognition.new.infer:HYPO: esctiones que voy hacer es revisar si los fondos que han sido destinados al instituto nacional penitenciario que son alrededor de unos 75 00l millones de dólares más o menos están siendo bien invertidos empez con lamentablemente es así  en los países como los nuestros vea en las gestiones pasadas como u una gran corrupción y latrocinio alrededor de los ruebosd d lo\n",
            "INFO:examples.speech_recognition.new.infer:REF: dummy dummy\n",
            "INFO:examples.speech_recognition.new.infer:---------------------\n",
            "INFO:examples.speech_recognition.new.infer:HYPO: y quiero decirle que tenemos gracias a la intervención también internacional modelos múltiples que podríamos tomar de elecciones positivas que se marcan en cárceles de ee uiu mégico y también de centro américa nosotros estamos en la capacidad de generar nuestro  acordo a nuestro propio diagnóstico lo que la presidenta ha establecido quiero que quede claro aquí al mundo es respectos de leo\n",
            "INFO:examples.speech_recognition.new.infer:REF: dummy dummy\n",
            "INFO:examples.speech_recognition.new.infer:---------------------\n",
            "INFO:examples.speech_recognition.new.infer:HYPO: o de la gestión se ha perdido seguridad en las cárceles de onduras por supuesto es objetivo número 1 que es en las cárceles que las cárceles cumplan dentro de las planificaciones el objetivo para los que fueron creadas en primer lugar ser lugares donde se cumplen las penas de personas que hayan cometido delitos y en segundo lugar que se vuelvan aí dentro\n",
            "INFO:examples.speech_recognition.new.infer:REF: dummy dummy\n",
            "INFO:examples.speech_recognition.new.infer:---------------------\n",
            "INFO:examples.speech_recognition.new.infer:HYPO: utaondurasy umara castro para intervenir y poner orden ya de una vez por todas en las cásles veo\n",
            "INFO:examples.speech_recognition.new.infer:REF: dummy dummy\n",
            "INFO:examples.speech_recognition.new.infer:---------------------\n",
            "INFO:examples.speech_recognition.new.infer:Processed 20 sentences (7234 tokens) in 29.2s 0.69 sentences per second, 247.88 tokens per second)\n",
            "INFO:examples.speech_recognition.new.infer:Word error rate: 3105.0000\n"
          ]
        },
        {
          "output_type": "stream",
          "name": "stdout",
          "text": [
            ">>> file /content/parts/output00.wav\n",
            "utaondurasy umara castro para intervenir y poner orden ya de una vez por todas en las cásles veo \n",
            ">>> file /content/parts/output01.wav\n",
            "o de la gestión se ha perdido seguridad en las cárceles de onduras por supuesto es objetivo número 1 que es en las cárceles que las cárceles cumplan dentro de las planificaciones el objetivo para los que fueron creadas en primer lugar ser lugares donde se cumplen las penas de personas que hayan cometido delitos y en segundo lugar que se vuelvan aí dentro\n",
            ">>> file /content/parts/output02.wav\n",
            "y quiero decirle que tenemos gracias a la intervención también internacional modelos múltiples que podríamos tomar de elecciones positivas que se marcan en cárceles de ee uiu mégico y también de centro américa nosotros estamos en la capacidad de generar nuestro  acordo a nuestro propio diagnóstico lo que la presidenta ha establecido quiero que quede claro aquí al mundo es respectos de leo \n",
            ">>> file /content/parts/output03.wav\n",
            "esctiones que voy hacer es revisar si los fondos que han sido destinados al instituto nacional penitenciario que son alrededor de unos 75 00l millones de dólares más o menos están siendo bien invertidos empez con lamentablemente es así  en los países como los nuestros vea en las gestiones pasadas como u una gran corrupción y latrocinio alrededor de los ruebosd d lo\n",
            ">>> file /content/parts/output04.wav\n",
            "directores de centros penales que renuncian porque no vaya hacer qe los investiguen: lo sustituyeron.ya los etán vigando es el principal indicador de que las cosas están mal me termina la idea de lo económico y regresamos para que me responda si le parece esto. estoy con justicia vínueva viceministra de seguridad y desipridetcto pa i ry alreglar las cárceles  c  con justicia vía nuva iceministra de seguridad y designada por la presidenta de onduras iomara castro para intervenir \n",
            ">>> file /content/parts/output05.wav\n",
            "ncarados de los bienes públicos en esa ocasión comenzaremos entonces revisando si los dineros que ha destinado la presidenta en ese momento están siendo bien distribuidos por otro lado la presidenta ha establecido una clara prioridad a este tema y me ha dicho dr avia nueva revise y vamos hacer incapie en generar también de alguna manera un apoyo para  las personas que aí trabajan la e o\n",
            ">>> file /content/parts/output06.wav\n",
            "iidenta castro e  hablando en los cuatro ejs d seguridad estamos hablando en el tema de corrupción estamos hablando también que se enfocarán en el tema de reinserción y rehabilitación y otro tema importante que es en generar que estas cárceles sean manejadas por personal capacitado es decir la escuela penitenciaria y la universidad penitencaria serán uno de los ejes imporoto \n",
            ">>> file /content/parts/output07.wav\n",
            "pmer cambios que sin duda alguna harían una grandiferencia justiza y la situación económica de onduras beo amí la matemática no me da para pensar que tiene los recursos para acerlo yo creo fernando que tenemos que ser un poco calculadores y científicos alrededor de ver cuánto ha invertido la presidenta alrededor de este problema la primera de la sala\n",
            ">>> file /content/parts/output08.wav\n",
            "eno e por v e  e  fácil no juslizaya además con armas de fuego en el caso de santa bárbara e la cosa sigue iguál cuvan empesar y por donde fernando creo que quiero decirles que las cosas no siguen igual. se ha tomado una determinación declarando la presidenta castro una emergencia nacional la situacio\n",
            ">>> file /content/parts/output09.wav\n",
            "administración de la presidenta giomara castro claro que no estoe seredado? pero esto es multifactorial y aquí se necesita muchísima plata asinamiento cundo estamos hablando de lugares en los que no se cumplen con los requisitos mínimos de acceso a la salú para los reos    corrupción cdo estamoshablando de tráfico de armas cudo estamoshablando de tráfico de de drogas cum a  fta de personal e m abla de plata; estamohablando de miles de millones de dólares para poder enfrentar\n",
            ">>> file /content/parts/output10.wav\n",
            "importante en cuanto al dinero hoy casalmente et be se n a a co lmesade coperae  pr qe marcar una pausa déme damás unos minutitos regres aterizamos la idea de la mesa de cooperantes y le pregnto yo esque por supuesto ya hay problemas no ya le estánl renunciando e \n",
            ">>> file /content/parts/output11.wav\n",
            "crecios de rehabilitación y por supuesto para la reinserción social eso lo hemos venido viendo y significativamente es parte de uno de los jeges de seguridad nacional que se deben de combatir paralelamente con otros que en el país están afectando a claro y tengo que darle el punto este no es un tema que sea stolamteneteao\n",
            ">>> file /content/parts/output12.wav\n",
            "taes para generar relevo generacionales lia pero nunca copiando el esquema bukuéle no o hay psibili a s p decirle que respetamos lo que el presidente bukel hace por supuesto cada país hace de su soberanía lo que establece correcto nosotros por supuesto estamos generando nuestro propio modelo e eo \n",
            ">>> file /content/parts/output13.wav\n",
            "le doy la bienvenida a juslicia villanueva viceministra de seguridad y designada por la presidenta de ondurasy homar a castro para intervenir las cárceles juticia cmoebevenidaennoch buenanoches fernando un gusto para usted y a todos los que hoy tienen el gusto de ver su programa conclusiones que amable muchasgracias u es esán ustedes tratando  de accionar y siete heridos en ilama tre en move\n",
            ">>> file /content/parts/output14.wav\n",
            "or supuesto aquel que quiera renunciar que se sienta incapaz y que sepa que vamos a llegar hasta el último eslavón en los casos de corrución mejor que renuncie se habla quéen renunciado durante un tiempo las últimas semanas y días alrededor como de 1ien no he visto todavía en mi despacho esas personas porque igualmente he ordenado que se clasifiquen y se investiguen por qué  renunciado \n",
            ">>> file /content/parts/output15.wav\n",
            "quería las cárceles julicia medecía estuvo en la mesa de cooperates aa cerrar el tema económico qué me quería cir comentarle de fernando que esta doy bastante satisfecha porque en la mesa de cooperate los países amigos sobre todo ee. uu y lo que es a países que están relacionados con la onu han dicho que van apoyar todo el proceso que está impulsando la presi \n",
            ">>> file /content/parts/output16.wav\n",
            "hoya pues  deyó la mejor de las suertes en ese plan a usted y a la presidenta ojalá logren dar el buelco que tanta falta hace nosotros vamos tener comunicación por supuesto conforme se vaya dando las cosas y ojalá se calme por lo pronto se calme la violencia dentre los centos penitenciarios julisa mil gracias por haber me acompañado que pase buena noche a ustedes muchas gracias al julicio havía nueva viceministra de seguridad y designada por la presidena \n",
            ">>> file /content/parts/output17.wav\n",
            "structura básica que aí hay y por supuesto establecer algunos ejes fundamentales para el trabajo que tenemos que hacer que es  verificar que ese asinamiento que usted habla perfecto que lo conosemos pues pueda irse descongestionando a través de la preliberación trabajos que se hagan con la corte de justicia o la corte suprema y trabajos que se van hacer en enfermedade terminales solo quiero comentarle algo y muy\n",
            ">>> file /content/parts/output18.wav\n",
            "ión de las cárceles. situación de las cárceles es un problema noes que quiere escusarme pero es un problema eredado; es un problema netamente estructural que se enfoca plenamente e dos problemas grandes en cuanto a estos recintos uno como la corrupción ha llegado hasta esos centros y por supuesto el crimen organizado ha generado dentro de ellos una pérdida de la gobernanciao\n",
            ">>> file /content/parts/output19.wav\n",
            "e sique ya hecho incapié en eso me queda un minuto usted misma ha declarado que ya empiezan a renunciar directores de los centros: cuántos le han renunciado d cáles fise que a mí me parece eso muy bueno porque ya saben que vamos a dar la mano dura que usted escucha es precisamente para todo aquel que esté involucrado en actos de corrupción y o \n"
          ]
        }
      ]
    },
    {
      "cell_type": "code",
      "source": [
        "res = ''.join(transcriptions)\n",
        "res"
      ],
      "metadata": {
        "colab": {
          "base_uri": "https://localhost:8080/",
          "height": 1000
        },
        "id": "R1a-Md-Kz23u",
        "outputId": "788c8d95-4ddd-43ef-9902-2e9300cd9248"
      },
      "execution_count": null,
      "outputs": [
        {
          "output_type": "execute_result",
          "data": {
            "text/plain": [
              "'utaondurasy umara castro para intervenir y poner orden ya de una vez por todas en las cásles veo o de la gestión se ha perdido seguridad en las cárceles de onduras por supuesto es objetivo número 1 que es en las cárceles que las cárceles cumplan dentro de las planificaciones el objetivo para los que fueron creadas en primer lugar ser lugares donde se cumplen las penas de personas que hayan cometido delitos y en segundo lugar que se vuelvan aí dentroy quiero decirle que tenemos gracias a la intervención también internacional modelos múltiples que podríamos tomar de elecciones positivas que se marcan en cárceles de ee uiu mégico y también de centro américa nosotros estamos en la capacidad de generar nuestro  acordo a nuestro propio diagnóstico lo que la presidenta ha establecido quiero que quede claro aquí al mundo es respectos de leo esctiones que voy hacer es revisar si los fondos que han sido destinados al instituto nacional penitenciario que son alrededor de unos 75 00l millones de dólares más o menos están siendo bien invertidos empez con lamentablemente es así  en los países como los nuestros vea en las gestiones pasadas como u una gran corrupción y latrocinio alrededor de los ruebosd d lodirectores de centros penales que renuncian porque no vaya hacer qe los investiguen: lo sustituyeron.ya los etán vigando es el principal indicador de que las cosas están mal me termina la idea de lo económico y regresamos para que me responda si le parece esto. estoy con justicia vínueva viceministra de seguridad y desipridetcto pa i ry alreglar las cárceles  c  con justicia vía nuva iceministra de seguridad y designada por la presidenta de onduras iomara castro para intervenir ncarados de los bienes públicos en esa ocasión comenzaremos entonces revisando si los dineros que ha destinado la presidenta en ese momento están siendo bien distribuidos por otro lado la presidenta ha establecido una clara prioridad a este tema y me ha dicho dr avia nueva revise y vamos hacer incapie en generar también de alguna manera un apoyo para  las personas que aí trabajan la e oiidenta castro e  hablando en los cuatro ejs d seguridad estamos hablando en el tema de corrupción estamos hablando también que se enfocarán en el tema de reinserción y rehabilitación y otro tema importante que es en generar que estas cárceles sean manejadas por personal capacitado es decir la escuela penitenciaria y la universidad penitencaria serán uno de los ejes imporoto pmer cambios que sin duda alguna harían una grandiferencia justiza y la situación económica de onduras beo amí la matemática no me da para pensar que tiene los recursos para acerlo yo creo fernando que tenemos que ser un poco calculadores y científicos alrededor de ver cuánto ha invertido la presidenta alrededor de este problema la primera de la salaeno e por v e  e  fácil no juslizaya además con armas de fuego en el caso de santa bárbara e la cosa sigue iguál cuvan empesar y por donde fernando creo que quiero decirles que las cosas no siguen igual. se ha tomado una determinación declarando la presidenta castro una emergencia nacional la situacioadministración de la presidenta giomara castro claro que no estoe seredado? pero esto es multifactorial y aquí se necesita muchísima plata asinamiento cundo estamos hablando de lugares en los que no se cumplen con los requisitos mínimos de acceso a la salú para los reos    corrupción cdo estamoshablando de tráfico de armas cudo estamoshablando de tráfico de de drogas cum a  fta de personal e m abla de plata; estamohablando de miles de millones de dólares para poder enfrentarimportante en cuanto al dinero hoy casalmente et be se n a a co lmesade coperae  pr qe marcar una pausa déme damás unos minutitos regres aterizamos la idea de la mesa de cooperantes y le pregnto yo esque por supuesto ya hay problemas no ya le estánl renunciando e crecios de rehabilitación y por supuesto para la reinserción social eso lo hemos venido viendo y significativamente es parte de uno de los jeges de seguridad nacional que se deben de combatir paralelamente con otros que en el país están afectando a claro y tengo que darle el punto este no es un tema que sea stolamteneteaotaes para generar relevo generacionales lia pero nunca copiando el esquema bukuéle no o hay psibili a s p decirle que respetamos lo que el presidente bukel hace por supuesto cada país hace de su soberanía lo que establece correcto nosotros por supuesto estamos generando nuestro propio modelo e eo le doy la bienvenida a juslicia villanueva viceministra de seguridad y designada por la presidenta de ondurasy homar a castro para intervenir las cárceles juticia cmoebevenidaennoch buenanoches fernando un gusto para usted y a todos los que hoy tienen el gusto de ver su programa conclusiones que amable muchasgracias u es esán ustedes tratando  de accionar y siete heridos en ilama tre en moveor supuesto aquel que quiera renunciar que se sienta incapaz y que sepa que vamos a llegar hasta el último eslavón en los casos de corrución mejor que renuncie se habla quéen renunciado durante un tiempo las últimas semanas y días alrededor como de 1ien no he visto todavía en mi despacho esas personas porque igualmente he ordenado que se clasifiquen y se investiguen por qué  renunciado quería las cárceles julicia medecía estuvo en la mesa de cooperates aa cerrar el tema económico qué me quería cir comentarle de fernando que esta doy bastante satisfecha porque en la mesa de cooperate los países amigos sobre todo ee. uu y lo que es a países que están relacionados con la onu han dicho que van apoyar todo el proceso que está impulsando la presi hoya pues  deyó la mejor de las suertes en ese plan a usted y a la presidenta ojalá logren dar el buelco que tanta falta hace nosotros vamos tener comunicación por supuesto conforme se vaya dando las cosas y ojalá se calme por lo pronto se calme la violencia dentre los centos penitenciarios julisa mil gracias por haber me acompañado que pase buena noche a ustedes muchas gracias al julicio havía nueva viceministra de seguridad y designada por la presidena structura básica que aí hay y por supuesto establecer algunos ejes fundamentales para el trabajo que tenemos que hacer que es  verificar que ese asinamiento que usted habla perfecto que lo conosemos pues pueda irse descongestionando a través de la preliberación trabajos que se hagan con la corte de justicia o la corte suprema y trabajos que se van hacer en enfermedade terminales solo quiero comentarle algo y muyión de las cárceles. situación de las cárceles es un problema noes que quiere escusarme pero es un problema eredado; es un problema netamente estructural que se enfoca plenamente e dos problemas grandes en cuanto a estos recintos uno como la corrupción ha llegado hasta esos centros y por supuesto el crimen organizado ha generado dentro de ellos una pérdida de la gobernanciaoe sique ya hecho incapié en eso me queda un minuto usted misma ha declarado que ya empiezan a renunciar directores de los centros: cuántos le han renunciado d cáles fise que a mí me parece eso muy bueno porque ya saben que vamos a dar la mano dura que usted escucha es precisamente para todo aquel que esté involucrado en actos de corrupción y o '"
            ],
            "application/vnd.google.colaboratory.intrinsic+json": {
              "type": "string"
            }
          },
          "metadata": {},
          "execution_count": 18
        }
      ]
    }
  ]
}